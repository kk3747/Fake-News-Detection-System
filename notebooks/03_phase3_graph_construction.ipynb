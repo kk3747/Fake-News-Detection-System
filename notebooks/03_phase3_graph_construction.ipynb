{
  "cells": [
    {
      "cell_type": "markdown",
      "metadata": {},
      "source": [
        "# Phase 3: User Engagement Graph + Profile Features\n",
        "\n",
        "This notebook demonstrates the graph construction and profile feature extraction pipeline as described in the research paper.\n",
        "\n",
        "## What we'll do:\n",
        "1. **Load Real Dataset**: Use the provided GossipCop and PolitiFact datasets\n",
        "2. **Profile Features**: Extract 10-dimensional user profile features\n",
        "3. **Graph Construction**: Build hierarchical retweet networks\n",
        "4. **Graph Analysis**: Analyze network properties and structure\n",
        "5. **Feature Integration**: Combine text embeddings with profile features\n",
        "\n",
        "## Paper Reference:\n",
        "- Graph construction follows the hierarchical tree structure (Section 6.2)\n",
        "- Profile features: 10-dimensional user engagement features\n",
        "- F3 feature set: spaCy + Profile features (as mentioned in the paper)\n"
      ]
    },
    {
      "cell_type": "code",
      "execution_count": null,
      "metadata": {},
      "outputs": [],
      "source": [
        "import sys\n",
        "import os\n",
        "sys.path.append('../src')\n",
        "\n",
        "import pandas as pd\n",
        "import numpy as np\n",
        "import matplotlib.pyplot as plt\n",
        "import seaborn as sns\n",
        "import networkx as nx\n",
        "from collections import Counter\n",
        "\n",
        "from fake_news.graphs.graph_construction import UserEngagementGraph, create_synthetic_engagement_data\n",
        "from fake_news.graphs.profile_features import UserProfileExtractor, create_synthetic_user_data, create_synthetic_tweet_data\n",
        "from fake_news.features.text_preprocessing import TextPreprocessor\n",
        "from fake_news.features.embeddings import EmbeddingExtractor\n",
        "from fake_news.utils.logging import get_logger\n",
        "from fake_news.utils.paths import PROCESSED_DIR, GRAPHS_DIR\n",
        "\n",
        "logger = get_logger('notebook')\n",
        "logger.info('Phase 3: Graph Construction + Profile Features')\n"
      ]
    }
  ],
  "metadata": {
    "language_info": {
      "name": "python"
    }
  },
  "nbformat": 4,
  "nbformat_minor": 2
}
